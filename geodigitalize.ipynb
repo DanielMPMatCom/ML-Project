{
 "cells": [
  {
   "cell_type": "code",
   "execution_count": 1,
   "metadata": {},
   "outputs": [],
   "source": [
    "import json\n",
    "from pathlib import Path\n",
    "import fiona\n",
    "from fiona.crs import from_epsg\n",
    "from shapely.geometry import Polygon, mapping\n",
    "\n",
    "def reconstruct_map_from_json(json_path: str, output_shapefile: str) -> None:\n",
    "    \"\"\"\n",
    "    Reconstructs the original vectorized map from a JSON file.\n",
    "    \n",
    "    Each component in the JSON contains the coordinates of its vertices (in clockwise order)\n",
    "    in the local coordinate system of the image, along with the information of the top left \n",
    "    corner (top_left_corner), the width, and the height of the bounding box.\n",
    "    \n",
    "    The transformation of each point is performed as follows:\n",
    "      - new_x = top_left[0] + local_x\n",
    "      - new_y = top_left[1] + (height - local_y)\n",
    "    \n",
    "    This corrects the vertical inversion, using the height of each component.\n",
    "    \n",
    "    Parameters:\n",
    "      - json_path (str): Path to the input JSON file.\n",
    "      - output_shapefile (str): Path to the output Shapefile.\n",
    "    \"\"\"\n",
    "    \n",
    "    with open(json_path, 'r', encoding='utf-8') as f:\n",
    "        data = json.load(f)\n",
    "    \n",
    "    features = []\n",
    "\n",
    "    for component, items in data.items():\n",
    "        for item in items:\n",
    "            local_coords = item[\"coordinates\"]   \n",
    "            top_left = item[\"top_left_corner\"]     \n",
    "            comp_height = item[\"height\"]           \n",
    "            \n",
    "            transformed_coords = []\n",
    "            for pt in local_coords:\n",
    "                \n",
    "                new_x = top_left[0] + pt[0]\n",
    "                new_y = -(top_left[1] + (comp_height - pt[1]))\n",
    "                transformed_coords.append((new_x, new_y))\n",
    "            \n",
    "            \n",
    "            polygon = Polygon(transformed_coords)\n",
    "            \n",
    "            feature = {\n",
    "                'geometry': mapping(polygon),\n",
    "                'properties': {\n",
    "                    'component': component,\n",
    "                    'width': item.get(\"width\", 0),\n",
    "                    'height': item.get(\"height\", 0)\n",
    "                }\n",
    "            }\n",
    "            features.append(feature)\n",
    "    \n",
    "    \n",
    "    schema = {\n",
    "        'geometry': 'Polygon',\n",
    "        'properties': {\n",
    "            'component': 'str',\n",
    "            'width': 'int',\n",
    "            'height': 'int'\n",
    "        }\n",
    "    }\n",
    "    # Using EPSG:4326 (WGS84) as the reference system\n",
    "    crs = from_epsg(4326)\n",
    "    \n",
    "    \n",
    "    with fiona.open(output_shapefile, 'w', driver='ESRI Shapefile', schema=schema, crs=crs) as sink:\n",
    "        for feat in features:\n",
    "            sink.write(feat)\n",
    "    \n",
    "    print(f\"Shapefile saved at: {output_shapefile}\")\n",
    "\n",
    "\n"
   ]
  },
  {
   "cell_type": "code",
   "execution_count": 6,
   "metadata": {},
   "outputs": [
    {
     "name": "stderr",
     "output_type": "stream",
     "text": [
      "/tmp/ipykernel_232451/537813824.py:4: FionaDeprecationWarning: This function will be removed in version 2.0. Please use CRS.from_epsg() instead.\n",
      "  reconstruct_map_from_json(json_path, output_shapefile)\n"
     ]
    },
    {
     "name": "stdout",
     "output_type": "stream",
     "text": [
      "Shapefile saved at: data/processed_data/labeless_ohcah_cpcu_000013400/mapa_reconstruido.shp\n"
     ]
    }
   ],
   "source": [
    "json_path = 'data/processed_data/labeless_ohcah_cpcu_000013400/vectorized/labeless_ohcah_cpcu_000013400_grouped_shapefiles_rdp.json'  \n",
    "output_shapefile = 'data/processed_data/labeless_ohcah_cpcu_000013400/mapa_reconstruido.shp'     \n",
    "\n",
    "reconstruct_map_from_json(json_path, output_shapefile)"
   ]
  }
 ],
 "metadata": {
  "kernelspec": {
   "display_name": "Python 3",
   "language": "python",
   "name": "python3"
  },
  "language_info": {
   "codemirror_mode": {
    "name": "ipython",
    "version": 3
   },
   "file_extension": ".py",
   "mimetype": "text/x-python",
   "name": "python",
   "nbconvert_exporter": "python",
   "pygments_lexer": "ipython3",
   "version": "3.8.10"
  }
 },
 "nbformat": 4,
 "nbformat_minor": 2
}
