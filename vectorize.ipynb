{
 "cells": [
  {
   "cell_type": "markdown",
   "metadata": {},
   "source": [
    "# Workflow for Processing and Simplifying Geospatial Data\n",
    "\n",
    "This notebook details the steps involved in processing, vectorizing, filtering, and simplifying geospatial data from images, and subsequently grouping the data into a JSON file."
   ]
  },
  {
   "cell_type": "markdown",
   "metadata": {},
   "source": [
    "## Vectorization"
   ]
  },
  {
   "cell_type": "code",
   "execution_count": 1,
   "metadata": {},
   "outputs": [],
   "source": [
    "import cv2\n",
    "import os\n",
    "import subprocess\n",
    "from osgeo import gdal\n",
    "\n",
    "def preprocess_image(input_path: str, output_path: str) -> None:\n",
    "    \"\"\"\n",
    "    Preprocess the image: convert to grayscale and binarize.\n",
    "    Save the result as a GeoTIFF file.\n",
    "    \"\"\"\n",
    "\n",
    "    # Read the image\n",
    "    img = cv2.imread(input_path)\n",
    "\n",
    "    # Convert the image to grayscale\n",
    "    gray = cv2.cvtColor(img, cv2.COLOR_BGR2GRAY)\n",
    "\n",
    "    # Invert the image so the background is black and the polygon is white\n",
    "    inverted = cv2.bitwise_not(gray)\n",
    "\n",
    "    # Apply binarization (using a fixed threshold)\n",
    "    _, binary = cv2.threshold(inverted, 127, 255, cv2.THRESH_BINARY)\n",
    "\n",
    "    # Ensure the output directory exists\n",
    "    os.makedirs(os.path.dirname(output_path), exist_ok=True)\n",
    "\n",
    "    # Save the binarized image as GeoTIFF\n",
    "    driver = gdal.GetDriverByName(\"GTiff\")\n",
    "    out_dataset = driver.Create(\n",
    "        output_path, binary.shape[1], binary.shape[0], 1, gdal.GDT_Byte\n",
    "    )\n",
    "    out_dataset.GetRasterBand(1).WriteArray(binary)\n",
    "    out_dataset.SetProjection(\"EPSG:4326\")  # WGS84 projection\n",
    "\n",
    "\n",
    "def vectorize_image(input_raster, output_vector) -> None:\n",
    "    \"\"\"\n",
    "    Uses GDAL to vectorize the binarized image and generate a Shapefile.\n",
    "    \"\"\"\n",
    "    subprocess.run(\n",
    "        [\"gdal_polygonize.py\", input_raster, \"-f\", \"ESRI Shapefile\", output_vector]\n",
    "    )\n",
    "\n",
    "\n",
    "def process_directory(input_dir: str, output_dir: str, verbose: bool = False) -> None:\n",
    "    \"\"\"\n",
    "    Processes all JPG images in a directory.\n",
    "    \"\"\"\n",
    "    for filename in os.listdir(input_dir):\n",
    "        if filename.endswith(\".jpg\"):\n",
    "            input_path = os.path.join(input_dir, filename)\n",
    "            output_tiff_path = os.path.join(\n",
    "                output_dir, f\"{os.path.splitext(filename)[0]}.tif\"\n",
    "            )\n",
    "            output_shapefile_path = os.path.join(\n",
    "                output_dir, f\"{os.path.splitext(filename)[0]}.shp\"\n",
    "            )\n",
    "\n",
    "            preprocess_image(input_path, output_tiff_path)\n",
    "\n",
    "            vectorize_image(output_tiff_path, output_shapefile_path)\n",
    "            if verbose:\n",
    "                print(f\"Processed {filename}, result saved in {output_shapefile_path}\")\n",
    "\n"
   ]
  },
  {
   "cell_type": "code",
   "execution_count": 3,
   "metadata": {},
   "outputs": [
    {
     "name": "stderr",
     "output_type": "stream",
     "text": [
      "ERROR 1: missing [\n"
     ]
    },
    {
     "name": "stdout",
     "output_type": "stream",
     "text": [
      "Creating output data/processed/002/vectorized/component_00019.shp of format ESRI Shapefile.\n",
      "0...10...20...30...40...50...60...70...80...90...100 - done.\n"
     ]
    },
    {
     "name": "stderr",
     "output_type": "stream",
     "text": [
      "ERROR 1: missing [\n"
     ]
    },
    {
     "name": "stdout",
     "output_type": "stream",
     "text": [
      "Creating output data/processed/002/vectorized/component_00037.shp of format ESRI Shapefile.\n",
      "0...10...20...30...40...50...60...70...80...90...100 - done.\n"
     ]
    },
    {
     "name": "stderr",
     "output_type": "stream",
     "text": [
      "ERROR 1: missing [\n"
     ]
    },
    {
     "name": "stdout",
     "output_type": "stream",
     "text": [
      "Creating output data/processed/002/vectorized/component_00001.shp of format ESRI Shapefile.\n",
      "0...10...20...30...40...50...60...70...80...90...100 - done.\n"
     ]
    },
    {
     "name": "stderr",
     "output_type": "stream",
     "text": [
      "ERROR 1: missing [\n"
     ]
    },
    {
     "name": "stdout",
     "output_type": "stream",
     "text": [
      "Creating output data/processed/002/vectorized/component_00002.shp of format ESRI Shapefile.\n",
      "0...10...20...30...40...50...60...70...80...90...100 - done.\n"
     ]
    },
    {
     "name": "stderr",
     "output_type": "stream",
     "text": [
      "ERROR 1: missing [\n"
     ]
    },
    {
     "name": "stdout",
     "output_type": "stream",
     "text": [
      "Creating output data/processed/002/vectorized/component_00003.shp of format ESRI Shapefile.\n",
      "0...10...20...30...40...50...60...70...80...90...100 - done.\n"
     ]
    },
    {
     "name": "stderr",
     "output_type": "stream",
     "text": [
      "ERROR 1: missing [\n"
     ]
    },
    {
     "name": "stdout",
     "output_type": "stream",
     "text": [
      "Creating output data/processed/002/vectorized/component_00005.shp of format ESRI Shapefile.\n",
      "0...10...20...30...40...50...60...70...80...90...100 - done.\n"
     ]
    },
    {
     "name": "stderr",
     "output_type": "stream",
     "text": [
      "ERROR 1: missing [\n"
     ]
    },
    {
     "name": "stdout",
     "output_type": "stream",
     "text": [
      "Creating output data/processed/002/vectorized/component_00006.shp of format ESRI Shapefile.\n",
      "0...10...20...30...40...50...60...70...80...90...100 - done.\n"
     ]
    },
    {
     "name": "stderr",
     "output_type": "stream",
     "text": [
      "ERROR 1: missing [\n"
     ]
    },
    {
     "name": "stdout",
     "output_type": "stream",
     "text": [
      "Creating output data/processed/002/vectorized/component_00007.shp of format ESRI Shapefile.\n",
      "0...10...20...30...40...50...60...70...80...90...100 - done.\n"
     ]
    },
    {
     "name": "stderr",
     "output_type": "stream",
     "text": [
      "ERROR 1: missing [\n"
     ]
    },
    {
     "name": "stdout",
     "output_type": "stream",
     "text": [
      "Creating output data/processed/002/vectorized/component_00008.shp of format ESRI Shapefile.\n",
      "0...10...20...30...40...50...60...70...80...90...100 - done.\n"
     ]
    },
    {
     "name": "stderr",
     "output_type": "stream",
     "text": [
      "ERROR 1: missing [\n"
     ]
    },
    {
     "name": "stdout",
     "output_type": "stream",
     "text": [
      "Creating output data/processed/002/vectorized/component_00009.shp of format ESRI Shapefile.\n",
      "0...10...20...30...40...50...60...70...80...90...100 - done.\n"
     ]
    },
    {
     "name": "stderr",
     "output_type": "stream",
     "text": [
      "ERROR 1: missing [\n"
     ]
    },
    {
     "name": "stdout",
     "output_type": "stream",
     "text": [
      "Creating output data/processed/002/vectorized/component_00010.shp of format ESRI Shapefile.\n",
      "0...10...20...30...40...50...60...70...80...90...100 - done.\n"
     ]
    },
    {
     "name": "stderr",
     "output_type": "stream",
     "text": [
      "ERROR 1: missing [\n"
     ]
    },
    {
     "name": "stdout",
     "output_type": "stream",
     "text": [
      "Creating output data/processed/002/vectorized/component_00011.shp of format ESRI Shapefile.\n",
      "0...10...20...30...40...50...60...70...80...90...100 - done.\n"
     ]
    },
    {
     "name": "stderr",
     "output_type": "stream",
     "text": [
      "ERROR 1: missing [\n"
     ]
    },
    {
     "name": "stdout",
     "output_type": "stream",
     "text": [
      "Creating output data/processed/002/vectorized/component_00012.shp of format ESRI Shapefile.\n",
      "0...10...20...30...40...50...60...70...80...90...100 - done.\n"
     ]
    },
    {
     "name": "stderr",
     "output_type": "stream",
     "text": [
      "ERROR 1: missing [\n"
     ]
    },
    {
     "name": "stdout",
     "output_type": "stream",
     "text": [
      "Creating output data/processed/002/vectorized/component_00013.shp of format ESRI Shapefile.\n",
      "0...10...20...30...40...50...60...70...80...90...100 - done.\n"
     ]
    },
    {
     "name": "stderr",
     "output_type": "stream",
     "text": [
      "ERROR 1: missing [\n"
     ]
    },
    {
     "name": "stdout",
     "output_type": "stream",
     "text": [
      "Creating output data/processed/002/vectorized/component_00014.shp of format ESRI Shapefile.\n",
      "0...10...20...30...40...50...60...70...80...90...100 - done.\n"
     ]
    },
    {
     "name": "stderr",
     "output_type": "stream",
     "text": [
      "ERROR 1: missing [\n"
     ]
    },
    {
     "name": "stdout",
     "output_type": "stream",
     "text": [
      "Creating output data/processed/002/vectorized/component_00015.shp of format ESRI Shapefile.\n",
      "0...10...20...30...40...50...60...70...80...90...100 - done.\n"
     ]
    },
    {
     "name": "stderr",
     "output_type": "stream",
     "text": [
      "ERROR 1: missing [\n"
     ]
    },
    {
     "name": "stdout",
     "output_type": "stream",
     "text": [
      "Creating output data/processed/002/vectorized/component_00017.shp of format ESRI Shapefile.\n",
      "0...10...20...30...40...50...60...70...80...90...100 - done.\n"
     ]
    },
    {
     "name": "stderr",
     "output_type": "stream",
     "text": [
      "ERROR 1: missing [\n"
     ]
    },
    {
     "name": "stdout",
     "output_type": "stream",
     "text": [
      "Creating output data/processed/002/vectorized/component_00018.shp of format ESRI Shapefile.\n",
      "0...10...20...30...40...50...60...70...80...90...100 - done.\n"
     ]
    },
    {
     "name": "stderr",
     "output_type": "stream",
     "text": [
      "ERROR 1: missing [\n"
     ]
    },
    {
     "name": "stdout",
     "output_type": "stream",
     "text": [
      "Creating output data/processed/002/vectorized/component_00020.shp of format ESRI Shapefile.\n",
      "0...10...20...30...40...50...60...70...80...90...100 - done.\n"
     ]
    },
    {
     "name": "stderr",
     "output_type": "stream",
     "text": [
      "ERROR 1: missing [\n"
     ]
    },
    {
     "name": "stdout",
     "output_type": "stream",
     "text": [
      "Creating output data/processed/002/vectorized/component_00021.shp of format ESRI Shapefile.\n",
      "0...10...20...30...40...50...60...70...80...90...100 - done.\n"
     ]
    },
    {
     "name": "stderr",
     "output_type": "stream",
     "text": [
      "ERROR 1: missing [\n"
     ]
    },
    {
     "name": "stdout",
     "output_type": "stream",
     "text": [
      "Creating output data/processed/002/vectorized/component_00022.shp of format ESRI Shapefile.\n",
      "0...10...20...30...40...50...60...70...80...90...100 - done.\n"
     ]
    },
    {
     "name": "stderr",
     "output_type": "stream",
     "text": [
      "ERROR 1: missing [\n"
     ]
    },
    {
     "name": "stdout",
     "output_type": "stream",
     "text": [
      "Creating output data/processed/002/vectorized/component_00023.shp of format ESRI Shapefile.\n",
      "0...10...20...30...40...50...60...70...80...90...100 - done.\n"
     ]
    },
    {
     "name": "stderr",
     "output_type": "stream",
     "text": [
      "ERROR 1: missing [\n"
     ]
    },
    {
     "name": "stdout",
     "output_type": "stream",
     "text": [
      "Creating output data/processed/002/vectorized/component_00025.shp of format ESRI Shapefile.\n",
      "0...10...20...30...40...50...60...70...80...90...100 - done.\n"
     ]
    },
    {
     "name": "stderr",
     "output_type": "stream",
     "text": [
      "ERROR 1: missing [\n"
     ]
    },
    {
     "name": "stdout",
     "output_type": "stream",
     "text": [
      "Creating output data/processed/002/vectorized/component_00026.shp of format ESRI Shapefile.\n",
      "0...10...20...30...40...50...60...70...80...90...100 - done.\n"
     ]
    },
    {
     "name": "stderr",
     "output_type": "stream",
     "text": [
      "ERROR 1: missing [\n"
     ]
    },
    {
     "name": "stdout",
     "output_type": "stream",
     "text": [
      "Creating output data/processed/002/vectorized/component_00027.shp of format ESRI Shapefile.\n",
      "0...10...20...30...40...50...60...70...80...90...100 - done.\n",
      "Creating output data/processed/002/vectorized/component_00028.shp of format ESRI Shapefile.\n"
     ]
    },
    {
     "name": "stderr",
     "output_type": "stream",
     "text": [
      "ERROR 1: missing [\n"
     ]
    },
    {
     "name": "stdout",
     "output_type": "stream",
     "text": [
      "0...10...20...30...40...50...60...70...80...90...100 - done.\n"
     ]
    },
    {
     "name": "stderr",
     "output_type": "stream",
     "text": [
      "ERROR 1: missing [\n"
     ]
    },
    {
     "name": "stdout",
     "output_type": "stream",
     "text": [
      "Creating output data/processed/002/vectorized/component_00029.shp of format ESRI Shapefile.\n",
      "0...10...20...30...40...50...60...70...80...90...100 - done.\n"
     ]
    },
    {
     "name": "stderr",
     "output_type": "stream",
     "text": [
      "ERROR 1: missing [\n"
     ]
    },
    {
     "name": "stdout",
     "output_type": "stream",
     "text": [
      "Creating output data/processed/002/vectorized/component_00030.shp of format ESRI Shapefile.\n",
      "0...10...20...30...40...50...60...70...80...90...100 - done.\n"
     ]
    },
    {
     "name": "stderr",
     "output_type": "stream",
     "text": [
      "ERROR 1: missing [\n"
     ]
    },
    {
     "name": "stdout",
     "output_type": "stream",
     "text": [
      "Creating output data/processed/002/vectorized/component_00031.shp of format ESRI Shapefile.\n",
      "0...10...20...30...40...50...60...70...80...90...100 - done.\n"
     ]
    },
    {
     "name": "stderr",
     "output_type": "stream",
     "text": [
      "ERROR 1: missing [\n"
     ]
    },
    {
     "name": "stdout",
     "output_type": "stream",
     "text": [
      "Creating output data/processed/002/vectorized/component_00032.shp of format ESRI Shapefile.\n",
      "0...10...20...30...40...50...60...70...80...90...100 - done.\n"
     ]
    },
    {
     "name": "stderr",
     "output_type": "stream",
     "text": [
      "ERROR 1: missing [\n"
     ]
    },
    {
     "name": "stdout",
     "output_type": "stream",
     "text": [
      "Creating output data/processed/002/vectorized/component_00033.shp of format ESRI Shapefile.\n",
      "0...10...20...30...40...50...60...70...80...90...100 - done.\n"
     ]
    },
    {
     "name": "stderr",
     "output_type": "stream",
     "text": [
      "ERROR 1: missing [\n"
     ]
    },
    {
     "name": "stdout",
     "output_type": "stream",
     "text": [
      "Creating output data/processed/002/vectorized/component_00034.shp of format ESRI Shapefile.\n",
      "0...10...20...30...40...50...60...70...80...90...100 - done.\n"
     ]
    },
    {
     "name": "stderr",
     "output_type": "stream",
     "text": [
      "ERROR 1: missing [\n"
     ]
    },
    {
     "name": "stdout",
     "output_type": "stream",
     "text": [
      "Creating output data/processed/002/vectorized/component_00035.shp of format ESRI Shapefile.\n",
      "0...10...20...30...40...50...60...70...80...90...100 - done.\n"
     ]
    },
    {
     "name": "stderr",
     "output_type": "stream",
     "text": [
      "ERROR 1: missing [\n"
     ]
    },
    {
     "name": "stdout",
     "output_type": "stream",
     "text": [
      "Creating output data/processed/002/vectorized/component_00036.shp of format ESRI Shapefile.\n",
      "0...10...20...30...40...50...60...70...80...90...100 - done.\n"
     ]
    },
    {
     "name": "stderr",
     "output_type": "stream",
     "text": [
      "ERROR 1: missing [\n"
     ]
    },
    {
     "name": "stdout",
     "output_type": "stream",
     "text": [
      "Creating output data/processed/002/vectorized/component_00038.shp of format ESRI Shapefile.\n",
      "0...10...20...30...40...50...60...70...80...90...100 - done.\n"
     ]
    },
    {
     "name": "stderr",
     "output_type": "stream",
     "text": [
      "ERROR 1: missing [\n"
     ]
    },
    {
     "name": "stdout",
     "output_type": "stream",
     "text": [
      "Creating output data/processed/002/vectorized/component_00039.shp of format ESRI Shapefile.\n",
      "0...10...20...30...40...50...60...70...80...90...100 - done.\n"
     ]
    },
    {
     "name": "stderr",
     "output_type": "stream",
     "text": [
      "ERROR 1: missing [\n"
     ]
    },
    {
     "name": "stdout",
     "output_type": "stream",
     "text": [
      "Creating output data/processed/002/vectorized/component_00041.shp of format ESRI Shapefile.\n",
      "0...10...20...30...40...50...60...70...80...90...100 - done.\n"
     ]
    },
    {
     "name": "stderr",
     "output_type": "stream",
     "text": [
      "ERROR 1: missing [\n"
     ]
    },
    {
     "name": "stdout",
     "output_type": "stream",
     "text": [
      "Creating output data/processed/002/vectorized/component_00042.shp of format ESRI Shapefile.\n",
      "0...10...20...30...40...50...60...70...80...90...100 - done.\n"
     ]
    },
    {
     "name": "stderr",
     "output_type": "stream",
     "text": [
      "ERROR 1: missing [\n"
     ]
    },
    {
     "name": "stdout",
     "output_type": "stream",
     "text": [
      "Creating output data/processed/002/vectorized/component_00043.shp of format ESRI Shapefile.\n",
      "0...10...20...30...40...50...60...70...80...90...100 - done.\n"
     ]
    },
    {
     "name": "stderr",
     "output_type": "stream",
     "text": [
      "ERROR 1: missing [\n"
     ]
    },
    {
     "name": "stdout",
     "output_type": "stream",
     "text": [
      "Creating output data/processed/002/vectorized/component_00044.shp of format ESRI Shapefile.\n",
      "0...10...20...30...40...50...60...70...80...90...100 - done.\n"
     ]
    },
    {
     "name": "stderr",
     "output_type": "stream",
     "text": [
      "ERROR 1: missing [\n"
     ]
    },
    {
     "name": "stdout",
     "output_type": "stream",
     "text": [
      "Creating output data/processed/002/vectorized/component_00046.shp of format ESRI Shapefile.\n",
      "0...10...20...30...40...50...60...70...80...90...100 - done.\n"
     ]
    },
    {
     "name": "stderr",
     "output_type": "stream",
     "text": [
      "ERROR 1: missing [\n"
     ]
    },
    {
     "name": "stdout",
     "output_type": "stream",
     "text": [
      "Creating output data/processed/002/vectorized/component_00048.shp of format ESRI Shapefile.\n",
      "0...10...20...30...40...50...60...70...80...90...100 - done.\n"
     ]
    },
    {
     "name": "stderr",
     "output_type": "stream",
     "text": [
      "ERROR 1: missing [\n"
     ]
    },
    {
     "name": "stdout",
     "output_type": "stream",
     "text": [
      "Creating output data/processed/002/vectorized/component_00049.shp of format ESRI Shapefile.\n",
      "0...10...20...30...40...50...60...70...80...90...100 - done.\n"
     ]
    },
    {
     "name": "stderr",
     "output_type": "stream",
     "text": [
      "ERROR 1: missing [\n"
     ]
    },
    {
     "name": "stdout",
     "output_type": "stream",
     "text": [
      "Creating output data/processed/002/vectorized/component_00050.shp of format ESRI Shapefile.\n",
      "0...10...20...30...40...50...60...70...80...90...100 - done.\n"
     ]
    },
    {
     "name": "stderr",
     "output_type": "stream",
     "text": [
      "ERROR 1: missing [\n"
     ]
    },
    {
     "name": "stdout",
     "output_type": "stream",
     "text": [
      "Creating output data/processed/002/vectorized/component_00051.shp of format ESRI Shapefile.\n",
      "0...10...20...30...40...50...60...70...80...90...100 - done.\n"
     ]
    },
    {
     "name": "stderr",
     "output_type": "stream",
     "text": [
      "ERROR 1: missing [\n"
     ]
    },
    {
     "name": "stdout",
     "output_type": "stream",
     "text": [
      "Creating output data/processed/002/vectorized/component_00052.shp of format ESRI Shapefile.\n",
      "0...10...20...30...40...50...60...70...80...90...100 - done.\n"
     ]
    },
    {
     "name": "stderr",
     "output_type": "stream",
     "text": [
      "ERROR 1: missing [\n"
     ]
    },
    {
     "name": "stdout",
     "output_type": "stream",
     "text": [
      "Creating output data/processed/002/vectorized/component_00053.shp of format ESRI Shapefile.\n",
      "0...10...20...30...40...50...60...70...80...90...100 - done.\n"
     ]
    },
    {
     "name": "stderr",
     "output_type": "stream",
     "text": [
      "ERROR 1: missing [\n"
     ]
    },
    {
     "name": "stdout",
     "output_type": "stream",
     "text": [
      "Creating output data/processed/002/vectorized/component_00054.shp of format ESRI Shapefile.\n",
      "0...10...20...30...40...50...60...70...80...90...100 - done.\n"
     ]
    },
    {
     "name": "stderr",
     "output_type": "stream",
     "text": [
      "ERROR 1: missing [\n"
     ]
    },
    {
     "name": "stdout",
     "output_type": "stream",
     "text": [
      "Creating output data/processed/002/vectorized/component_00055.shp of format ESRI Shapefile.\n",
      "0...10...20...30...40...50...60...70...80...90...100 - done.\n"
     ]
    },
    {
     "name": "stderr",
     "output_type": "stream",
     "text": [
      "ERROR 1: missing [\n"
     ]
    },
    {
     "name": "stdout",
     "output_type": "stream",
     "text": [
      "Creating output data/processed/002/vectorized/component_00056.shp of format ESRI Shapefile.\n",
      "0...10...20...30...40...50...60...70...80...90...100 - done.\n"
     ]
    },
    {
     "name": "stderr",
     "output_type": "stream",
     "text": [
      "ERROR 1: missing [\n"
     ]
    },
    {
     "name": "stdout",
     "output_type": "stream",
     "text": [
      "Creating output data/processed/002/vectorized/component_00057.shp of format ESRI Shapefile.\n",
      "0...10...20...30...40...50...60...70...80...90...100 - done.\n"
     ]
    }
   ],
   "source": [
    "input_directory = 'data/processed/002/building_blocks/'\n",
    "output_directory = 'data/processed/002/vectorized/'\n",
    "\n",
    "if not os.path.exists(output_directory):\n",
    "    os.makedirs(output_directory)\n",
    "\n",
    "process_directory(input_directory, output_directory)"
   ]
  },
  {
   "cell_type": "markdown",
   "metadata": {},
   "source": [
    "## Simplifying Geospatial Data"
   ]
  },
  {
   "cell_type": "code",
   "execution_count": 4,
   "metadata": {},
   "outputs": [],
   "source": [
    "import os\n",
    "from pathlib import Path\n",
    "import fiona\n",
    "from shapely.geometry import shape, mapping, Polygon, MultiPolygon\n",
    "from shapely.affinity import scale\n",
    "from rdp import rdp\n",
    "\n",
    "def filter_polygons(input_shapefile: str, output_shapefile: str) -> None:\n",
    "    \"\"\"\n",
    "    Filters the main polygon (black in the binarized image) based on its area or position.\n",
    "    \"\"\"\n",
    "    with fiona.open(input_shapefile, \"r\") as source:\n",
    "        schema = source.schema\n",
    "        crs = source.crs\n",
    "        polygons = []\n",
    "\n",
    "        for feature in source:\n",
    "            geom = shape(feature[\"geometry\"])\n",
    "            if geom.geom_type == \"Polygon\" or geom.geom_type == \"MultiPolygon\":\n",
    "                polygons.append(geom)\n",
    "\n",
    "        # Filter the largest polygon (you can adjust this logic if necessary)\n",
    "        main_polygon = max(polygons, key=lambda x: x.area)\n",
    "\n",
    "        # Create shapefile with only the polygon of interest\n",
    "        with fiona.open(\n",
    "            output_shapefile, \"w\", driver=source.driver, schema=schema, crs=crs\n",
    "        ) as sink:\n",
    "            feature = {\n",
    "                \"type\": \"Feature\",\n",
    "                \"geometry\": mapping(main_polygon),\n",
    "                \"properties\": {\n",
    "                    key: None for key in schema[\"properties\"]\n",
    "                },  # Clear original properties\n",
    "            }\n",
    "            sink.write(feature)\n",
    "\n",
    "\n",
    "\n",
    "\n",
    "def simplify_shapefile_with_rdp(\n",
    "    input_path: str, output_path: str, tolerance: float\n",
    ") -> None:\n",
    "    \"\"\"\n",
    "    Simplifies a shapefile using the Ramer-Douglas-Peucker (RDP) algorithm.\n",
    "    \"\"\"\n",
    "    with fiona.open(input_path, \"r\") as source:\n",
    "        schema = source.schema\n",
    "        crs = source.crs\n",
    "\n",
    "        # Create output file\n",
    "        with fiona.open(\n",
    "            output_path, \"w\", driver=source.driver, schema=schema, crs=crs\n",
    "        ) as sink:\n",
    "            for feature in source:\n",
    "                geom = shape(feature[\"geometry\"])\n",
    "                if geom.geom_type == \"Polygon\":\n",
    "                    simplified_coords = rdp(\n",
    "                        list(geom.exterior.coords), epsilon=tolerance\n",
    "                    )\n",
    "                    simplified_geom = Polygon(simplified_coords)\n",
    "                elif geom.geom_type == \"MultiPolygon\":\n",
    "                    simplified_geom = MultiPolygon(\n",
    "                        [\n",
    "                            Polygon(rdp(list(poly.exterior.coords), epsilon=tolerance))\n",
    "                            for poly in geom.geoms\n",
    "                        ]\n",
    "                    )\n",
    "                else:\n",
    "                    continue  # Ignore unsupported geometries\n",
    "                feature[\"geometry\"] = fiona.Geometry.from_dict(mapping(simplified_geom))\n",
    "                sink.write(feature)\n",
    "\n",
    "\n",
    "def simplify_shapefile_with_shapely(\n",
    "    input_path: str, output_path: str, tolerance: float\n",
    ") -> None:\n",
    "    \"\"\"\n",
    "    Simplifies a shapefile using shapely.simplify.\n",
    "    \"\"\"\n",
    "    with fiona.open(input_path, \"r\") as source:\n",
    "        schema = source.schema\n",
    "        crs = source.crs\n",
    "\n",
    "        # Create output file\n",
    "        with fiona.open(\n",
    "            output_path, \"w\", driver=source.driver, schema=schema, crs=crs\n",
    "        ) as sink:\n",
    "            for feature in source:\n",
    "                geom = shape(feature[\"geometry\"])\n",
    "                if geom.geom_type in [\"Polygon\", \"MultiPolygon\"]:\n",
    "                    simplified_geom = geom.simplify(tolerance, preserve_topology=True)\n",
    "                else:\n",
    "                    continue  # Ignore unsupported geometries\n",
    "                feature[\"geometry\"] = fiona.Geometry.from_dict(mapping(simplified_geom))\n",
    "                sink.write(feature)\n",
    "\n",
    "\n",
    "\n",
    "\n",
    "def flip_vertical(input_path: str, output_path: str) -> None:\n",
    "    \"\"\"\n",
    "    Flips the polygons in a shapefile vertically.\n",
    "    \"\"\"\n",
    "    with fiona.open(input_path, \"r\") as source:\n",
    "        schema = source.schema\n",
    "        crs = source.crs\n",
    "\n",
    "        # Create output file\n",
    "        with fiona.open(\n",
    "            output_path, \"w\", driver=source.driver, schema=schema, crs=crs\n",
    "        ) as sink:\n",
    "            for feature in source:\n",
    "                geom = shape(feature[\"geometry\"])\n",
    "                flipped_geom = scale(geom, xfact=1, yfact=-1, origin=\"center\")\n",
    "                feature[\"geometry\"] = fiona.Geometry.from_dict(mapping(flipped_geom))\n",
    "                sink.write(feature)\n",
    "\n",
    "\n",
    "def process_shapefiles(\n",
    "    input_directory: str,\n",
    "    tolerance: float,\n",
    "    simplify_method: str,\n",
    "    verbose=False,\n",
    ") -> None:\n",
    "    \"\"\"\n",
    "    Processes all shapefiles in a directory: filters the polygon of interest, applies simplifications, and flips vertically.\n",
    "    \"\"\"\n",
    "\n",
    "    input_path = Path(input_directory)\n",
    "    filtered_output_dir = input_path / \"filtered\"\n",
    "    output_dir = input_path / simplify_method\n",
    "\n",
    "    filtered_output_dir.mkdir(parents=True, exist_ok=True)\n",
    "    output_dir.mkdir(parents=True, exist_ok=True)\n",
    "\n",
    "    for shp_file in input_path.glob(\"*.shp\"):\n",
    "        filtered_output_path = filtered_output_dir / shp_file.name\n",
    "        output_path = output_dir / shp_file.name\n",
    "\n",
    "        if verbose:\n",
    "            print(f\"Filtering the main polygon of {shp_file.name}...\")\n",
    "        filter_polygons(str(shp_file), str(filtered_output_path))\n",
    "\n",
    "        if simplify_method == \"rdp\":\n",
    "            if verbose:\n",
    "                print(f\"Simplifying {shp_file.name} with RDP...\")\n",
    "            simplify_shapefile_with_rdp(\n",
    "                str(filtered_output_path), str(output_path), tolerance\n",
    "            )\n",
    "\n",
    "        if simplify_method == \"shapely\":\n",
    "            if verbose:\n",
    "                print(f\"Simplifying {shp_file.name} with Shapely...\")\n",
    "            simplify_shapefile_with_shapely(\n",
    "                str(filtered_output_path), str(output_path), tolerance\n",
    "            )\n",
    "\n",
    "        if verbose:\n",
    "            print(f\"Flipping {shp_file.name} vertically...\")\n",
    "        flip_vertical(str(output_path), str(output_path))\n",
    "\n",
    "        if verbose:\n",
    "            print(f\"Processed {shp_file.name}: saved in {output_path}\")\n",
    "\n"
   ]
  },
  {
   "cell_type": "code",
   "execution_count": 5,
   "metadata": {},
   "outputs": [
    {
     "name": "stderr",
     "output_type": "stream",
     "text": [
      "/tmp/ipykernel_36178/3694822249.py:95: FionaDeprecationWarning: instances of this class -- CRS, geometry, and feature objects -- will become immutable in fiona version 2.0\n",
      "  feature[\"geometry\"] = fiona.Geometry.from_dict(mapping(simplified_geom))\n",
      "/tmp/ipykernel_36178/3694822249.py:116: FionaDeprecationWarning: instances of this class -- CRS, geometry, and feature objects -- will become immutable in fiona version 2.0\n",
      "  feature[\"geometry\"] = fiona.Geometry.from_dict(mapping(flipped_geom))\n"
     ]
    }
   ],
   "source": [
    "input_directory = 'data/processed/002/vectorized'\n",
    "tolerance = 2.0\n",
    "simplify_method = \"shapely\"\n",
    "\n",
    "process_shapefiles(input_directory, tolerance, simplify_method=simplify_method)"
   ]
  },
  {
   "cell_type": "markdown",
   "metadata": {},
   "source": [
    "## Save data"
   ]
  },
  {
   "cell_type": "code",
   "execution_count": 6,
   "metadata": {},
   "outputs": [],
   "source": [
    "import os\n",
    "import json\n",
    "from pathlib import Path\n",
    "import fiona\n",
    "from shapely.geometry import shape, Polygon\n",
    "\n",
    "def extract_polygon_data(shapefile_path: str) -> list:\n",
    "    \"\"\"\n",
    "    Extracts the vertex coordinates of polygons in clockwise order from a shapefile.\n",
    "    \"\"\"\n",
    "    polygons_data = []\n",
    "\n",
    "    with fiona.open(shapefile_path, \"r\") as shapefile:\n",
    "        for feature in shapefile:\n",
    "            geom = shape(feature[\"geometry\"])\n",
    "            if geom.geom_type == \"Polygon\":\n",
    "                # Ensure that the coordinates are in clockwise order\n",
    "                if not geom.exterior.is_ccw:\n",
    "                    coords = list(geom.exterior.coords)\n",
    "                else:\n",
    "                    coords = list(Polygon(geom.exterior.coords[::-1]).exterior.coords)\n",
    "                polygons_data.append({\"coordinates\": coords})\n",
    "            elif geom.geom_type == \"MultiPolygon\":\n",
    "                for polygon in geom.geoms:\n",
    "                    # Ensure that the coordinates are in clockwise order\n",
    "                    if not polygon.exterior.is_ccw:\n",
    "                        coords = list(polygon.exterior.coords)\n",
    "                    else:\n",
    "                        coords = list(\n",
    "                            Polygon(polygon.exterior.coords[::-1]).exterior.coords\n",
    "                        )\n",
    "                    polygons_data.append({\"coordinates\": coords})\n",
    "\n",
    "    return polygons_data\n",
    "\n",
    "\n",
    "def parse_components_info(components_info_path: str) -> dict:\n",
    "    \"\"\"\n",
    "    Parses the components_info.json file to extract data for each component.\n",
    "    \"\"\"\n",
    "    components_data = {}\n",
    "\n",
    "    with open(components_info_path, \"r\") as file:\n",
    "        data = json.load(file)\n",
    "\n",
    "        for component in data:\n",
    "            component_id = str(component[\"component\"])\n",
    "            components_data[component_id] = {\n",
    "                \"top_left_corner\": (\n",
    "                    component[\"topLeftCorner\"][\"x\"],\n",
    "                    component[\"topLeftCorner\"][\"y\"],\n",
    "                ),\n",
    "                \"width\": component[\"width\"],\n",
    "                \"height\": component[\"height\"],\n",
    "            }\n",
    "\n",
    "    return components_data\n",
    "\n",
    "\n",
    "def group_shapefile_data(\n",
    "    input_directory: str,\n",
    "    components_info_path: str,\n",
    "    output_json_path: str,\n",
    "    verbose=False,\n",
    ") -> None:\n",
    "    \"\"\"\n",
    "    Groups shapefile data with the same base name, adds data from the components_info.txt file,\n",
    "    and saves the information in a JSON file.\n",
    "    \"\"\"\n",
    "    input_dir = Path(input_directory)\n",
    "    shapefiles = list(input_dir.glob(\"*.shp\"))\n",
    "    grouped_data = {}\n",
    "\n",
    "    # Read data from the components_info.json file\n",
    "    components_data = parse_components_info(components_info_path)\n",
    "\n",
    "    # Iterate over all .shp files in the directory\n",
    "    for shapefile_path in shapefiles:\n",
    "        base_name = shapefile_path.stem\n",
    "\n",
    "        # Extract vertex coordinates\n",
    "        vertices_data = extract_polygon_data(str(shapefile_path))\n",
    "\n",
    "        # Add data to the corresponding group\n",
    "        if base_name not in grouped_data:\n",
    "            grouped_data[base_name] = []\n",
    "        grouped_data[base_name].extend(vertices_data)\n",
    "\n",
    "        # If the shapefile has a name like \"component_0000x\", add top_left_corner, width, and height\n",
    "        component_number = base_name.split(\"_\")[-1].lstrip(\n",
    "            \"0\"\n",
    "        )  # Extract the component number\n",
    "        if component_number in components_data:\n",
    "            for item in grouped_data[base_name]:\n",
    "                item[\"top_left_corner\"] = components_data[component_number][\n",
    "                    \"top_left_corner\"\n",
    "                ]\n",
    "                item[\"width\"] = components_data[component_number].get(\"width\")\n",
    "                item[\"height\"] = components_data[component_number].get(\"height\")\n",
    "\n",
    "    # Ensure the output directory exists\n",
    "    os.makedirs(os.path.dirname(output_json_path), exist_ok=True)\n",
    "\n",
    "    # Save the grouped data to a JSON file\n",
    "    with open(output_json_path, \"w\", encoding=\"utf-8\") as json_file:\n",
    "        json.dump(grouped_data, json_file, ensure_ascii=False, indent=4)\n",
    "\n",
    "    if verbose:\n",
    "        print(f\"JSON file saved at: {output_json_path}\")\n",
    "\n"
   ]
  },
  {
   "cell_type": "code",
   "execution_count": 7,
   "metadata": {},
   "outputs": [],
   "source": [
    "input_directory = 'data/processed/002/vectorized/shapely'  \n",
    "components_info_path = 'data/processed/002/components_info.json'\n",
    "output_json_path = \"data/processed/002/vectorized/002_grouped_shapefiles_shapely.json\"\n",
    "\n",
    "group_shapefile_data(input_directory, \n",
    "                     components_info_path, \n",
    "                     output_json_path)"
   ]
  },
  {
   "cell_type": "code",
   "execution_count": null,
   "metadata": {},
   "outputs": [],
   "source": [
    "def vectorization_pipeline(\n",
    "    input_dir: str,\n",
    "    vectorize_dir: str,\n",
    "    components_info_path: str,\n",
    "    simplify_method: str,\n",
    "    simplify_tolerance: float,\n",
    "    output_directory: str,\n",
    "    output_file_name: str,\n",
    "    verbose: bool = False,\n",
    ") -> None:\n",
    "    \"\"\"\n",
    "    Executes a vectorization pipeline that processes input files, simplifies shapes,\n",
    "    and groups shapefile data into a JSON output.\n",
    "    Parameters:\n",
    "    - input_dir (str): Directory containing the input files to be processed.\n",
    "    - vectorize_dir (str): Directory where intermediate vectorized files will be stored.\n",
    "    - components_info_path (str): Path to the file containing components information.\n",
    "    - simplify_method (str): Method to use for simplifying shapes. Must be either 'rdp' or 'shapely'.\n",
    "    - simplify_tolerance (float): Tolerance level for shape simplification.\n",
    "    - output_directory (str): Directory where the final output JSON file will be stored.\n",
    "    - output_file_name (str): Name of the output JSON file (without extension).\n",
    "    - verbose (bool, optional): If True, enables verbose logging. Default is False.\n",
    "    Raises:\n",
    "    - ValueError: If an invalid simplify_method is provided.\n",
    "    \"\"\"\n",
    "\n",
    "    os.makedirs(vectorize_dir, exist_ok=True)\n",
    "    os.makedirs(output_directory, exist_ok=True)\n",
    "\n",
    "    simplify_method = simplify_method.lower()\n",
    "    if simplify_method not in [\"rdp\", \"shapely\"]:\n",
    "        raise ValueError(\"Invalid simplify_method. Choose either 'rdp' or 'shapely'.\")\n",
    "\n",
    "    process_directory(input_dir=input_dir, output_dir=vectorize_dir, verbose=verbose)\n",
    "\n",
    "    process_shapefiles(\n",
    "        input_directory=vectorize_dir,\n",
    "        tolerance=simplify_tolerance,\n",
    "        simplify_method=simplify_method,\n",
    "        verbose=verbose,\n",
    "    )\n",
    "\n",
    "    input_dir_for_group = vectorize_dir + \"/\" + simplify_method\n",
    "    output_json_path = os.path.join(output_directory, f\"{output_file_name}.json\")\n",
    "\n",
    "    group_shapefile_data(\n",
    "        input_directory=input_dir_for_group,\n",
    "        components_info_path=components_info_path,\n",
    "        output_json_path=output_json_path,\n",
    "        verbose=verbose,\n",
    "    )"
   ]
  },
  {
   "cell_type": "code",
   "execution_count": null,
   "metadata": {},
   "outputs": [],
   "source": [
    "vectorization_pipeline(input_dir='data/processed/002/building_blocks/',\n",
    "                       vectorize_dir='data/processed/002/vectorized2/',\n",
    "                       components_info_path='data/processed/002/components_info.json',\n",
    "                       simplify_method=\"shapely\",\n",
    "                       simplify_tolerance=2,\n",
    "                       output_directory='data/processed/002/vectorized/final',\n",
    "                       output_file_name=\"grouped_shapefiles.json\",\n",
    "                       verbose=True)\n"
   ]
  }
 ],
 "metadata": {
  "kernelspec": {
   "display_name": "Python 3",
   "language": "python",
   "name": "python3"
  },
  "language_info": {
   "codemirror_mode": {
    "name": "ipython",
    "version": 3
   },
   "file_extension": ".py",
   "mimetype": "text/x-python",
   "name": "python",
   "nbconvert_exporter": "python",
   "pygments_lexer": "ipython3",
   "version": "3.8.10"
  }
 },
 "nbformat": 4,
 "nbformat_minor": 2
}
